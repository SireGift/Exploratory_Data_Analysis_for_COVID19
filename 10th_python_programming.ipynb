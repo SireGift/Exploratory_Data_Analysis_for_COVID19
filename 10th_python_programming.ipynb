{
 "cells": [
  {
   "cell_type": "markdown",
   "id": "740393c6-a8a6-4fa8-84c2-a2a3d5dc8d80",
   "metadata": {},
   "source": [
    "### Exploratory Data Analysis Using COVID 19 Datasets"
   ]
  },
  {
   "cell_type": "code",
   "execution_count": 368,
   "id": "426b8b95-f981-4e66-8e0b-f769ed6d187c",
   "metadata": {},
   "outputs": [],
   "source": [
    "import pandas as pd\n",
    "import numpy as np\n",
    "import matplotlib.pyplot as plt\n",
    "import seaborn as sns"
   ]
  },
  {
   "cell_type": "code",
   "execution_count": 216,
   "id": "f393278c-969f-4f5d-8a4a-495cdb09a43a",
   "metadata": {},
   "outputs": [
    {
     "data": {
      "text/html": [
       "<div>\n",
       "<style scoped>\n",
       "    .dataframe tbody tr th:only-of-type {\n",
       "        vertical-align: middle;\n",
       "    }\n",
       "\n",
       "    .dataframe tbody tr th {\n",
       "        vertical-align: top;\n",
       "    }\n",
       "\n",
       "    .dataframe thead th {\n",
       "        text-align: right;\n",
       "    }\n",
       "</style>\n",
       "<table border=\"1\" class=\"dataframe\">\n",
       "  <thead>\n",
       "    <tr style=\"text-align: right;\">\n",
       "      <th></th>\n",
       "      <th>id</th>\n",
       "      <th>case_in_country</th>\n",
       "      <th>reporting date</th>\n",
       "      <th>location</th>\n",
       "      <th>country</th>\n",
       "      <th>gender</th>\n",
       "      <th>age</th>\n",
       "      <th>symptom_onset</th>\n",
       "      <th>If_onset_approximated</th>\n",
       "      <th>hosp_visit_date</th>\n",
       "      <th>exposure_start</th>\n",
       "      <th>exposure_end</th>\n",
       "      <th>incubationdays</th>\n",
       "      <th>hospitaldays</th>\n",
       "      <th>visiting Wuhan</th>\n",
       "      <th>from Wuhan</th>\n",
       "      <th>death</th>\n",
       "      <th>recovered</th>\n",
       "      <th>symptom</th>\n",
       "    </tr>\n",
       "  </thead>\n",
       "  <tbody>\n",
       "    <tr>\n",
       "      <th>0</th>\n",
       "      <td>195</td>\n",
       "      <td>NaN</td>\n",
       "      <td>1/27/2020</td>\n",
       "      <td>Hubei</td>\n",
       "      <td>China</td>\n",
       "      <td>female</td>\n",
       "      <td>28.0</td>\n",
       "      <td>1/7/2020</td>\n",
       "      <td>0.0</td>\n",
       "      <td>1/10/2020</td>\n",
       "      <td>NaN</td>\n",
       "      <td>NaN</td>\n",
       "      <td>#VALUE!</td>\n",
       "      <td>3</td>\n",
       "      <td>0</td>\n",
       "      <td>1</td>\n",
       "      <td>NaN</td>\n",
       "      <td>NaN</td>\n",
       "      <td>fever, cough, difficult in breathing</td>\n",
       "    </tr>\n",
       "    <tr>\n",
       "      <th>1</th>\n",
       "      <td>196</td>\n",
       "      <td>NaN</td>\n",
       "      <td>1/27/2020</td>\n",
       "      <td>Hubei</td>\n",
       "      <td>China</td>\n",
       "      <td>female</td>\n",
       "      <td>51.0</td>\n",
       "      <td>NaN</td>\n",
       "      <td>NaN</td>\n",
       "      <td>1/11/2020</td>\n",
       "      <td>NaN</td>\n",
       "      <td>NaN</td>\n",
       "      <td>#VALUE!</td>\n",
       "      <td>#VALUE!</td>\n",
       "      <td>0</td>\n",
       "      <td>1</td>\n",
       "      <td>NaN</td>\n",
       "      <td>NaN</td>\n",
       "      <td>fever, cough, difficult in breathing</td>\n",
       "    </tr>\n",
       "    <tr>\n",
       "      <th>2</th>\n",
       "      <td>197</td>\n",
       "      <td>NaN</td>\n",
       "      <td>1/27/2020</td>\n",
       "      <td>Shandong</td>\n",
       "      <td>China</td>\n",
       "      <td>male</td>\n",
       "      <td>37.0</td>\n",
       "      <td>NaN</td>\n",
       "      <td>NaN</td>\n",
       "      <td>1/17/2020</td>\n",
       "      <td>NaN</td>\n",
       "      <td>NaN</td>\n",
       "      <td>#VALUE!</td>\n",
       "      <td>#VALUE!</td>\n",
       "      <td>0</td>\n",
       "      <td>1</td>\n",
       "      <td>NaN</td>\n",
       "      <td>NaN</td>\n",
       "      <td>fever</td>\n",
       "    </tr>\n",
       "    <tr>\n",
       "      <th>3</th>\n",
       "      <td>237</td>\n",
       "      <td>1.0</td>\n",
       "      <td>1/15/2020</td>\n",
       "      <td>Kanagawa</td>\n",
       "      <td>Japan</td>\n",
       "      <td>male</td>\n",
       "      <td>35.0</td>\n",
       "      <td>1/3/2020</td>\n",
       "      <td>0.0</td>\n",
       "      <td>1/6/2020</td>\n",
       "      <td>NaN</td>\n",
       "      <td>1/6/2020</td>\n",
       "      <td>#VALUE!</td>\n",
       "      <td>3</td>\n",
       "      <td>1</td>\n",
       "      <td>0</td>\n",
       "      <td>NaN</td>\n",
       "      <td>1/15/2020</td>\n",
       "      <td>fever</td>\n",
       "    </tr>\n",
       "    <tr>\n",
       "      <th>4</th>\n",
       "      <td>241</td>\n",
       "      <td>5.0</td>\n",
       "      <td>1/28/2020</td>\n",
       "      <td>Aichi Prefecture</td>\n",
       "      <td>Japan</td>\n",
       "      <td>male</td>\n",
       "      <td>45.0</td>\n",
       "      <td>1/22/2020</td>\n",
       "      <td>0.0</td>\n",
       "      <td>1/26/2020</td>\n",
       "      <td>NaN</td>\n",
       "      <td>1/20/2020</td>\n",
       "      <td>#VALUE!</td>\n",
       "      <td>4</td>\n",
       "      <td>0</td>\n",
       "      <td>1</td>\n",
       "      <td>NaN</td>\n",
       "      <td>NaN</td>\n",
       "      <td>fever</td>\n",
       "    </tr>\n",
       "  </tbody>\n",
       "</table>\n",
       "</div>"
      ],
      "text/plain": [
       "    id  case_in_country reporting date          location country  gender  \\\n",
       "0  195              NaN      1/27/2020             Hubei   China  female   \n",
       "1  196              NaN      1/27/2020             Hubei   China  female   \n",
       "2  197              NaN      1/27/2020          Shandong   China    male   \n",
       "3  237              1.0      1/15/2020          Kanagawa   Japan    male   \n",
       "4  241              5.0      1/28/2020  Aichi Prefecture   Japan    male   \n",
       "\n",
       "    age symptom_onset  If_onset_approximated hosp_visit_date exposure_start  \\\n",
       "0  28.0      1/7/2020                    0.0       1/10/2020            NaN   \n",
       "1  51.0           NaN                    NaN       1/11/2020            NaN   \n",
       "2  37.0           NaN                    NaN       1/17/2020            NaN   \n",
       "3  35.0      1/3/2020                    0.0        1/6/2020            NaN   \n",
       "4  45.0     1/22/2020                    0.0       1/26/2020            NaN   \n",
       "\n",
       "  exposure_end incubationdays hospitaldays  visiting Wuhan  from Wuhan death  \\\n",
       "0          NaN        #VALUE!            3               0           1   NaN   \n",
       "1          NaN        #VALUE!      #VALUE!               0           1   NaN   \n",
       "2          NaN        #VALUE!      #VALUE!               0           1   NaN   \n",
       "3     1/6/2020        #VALUE!            3               1           0   NaN   \n",
       "4    1/20/2020        #VALUE!            4               0           1   NaN   \n",
       "\n",
       "   recovered                               symptom  \n",
       "0        NaN  fever, cough, difficult in breathing  \n",
       "1        NaN  fever, cough, difficult in breathing  \n",
       "2        NaN                                 fever  \n",
       "3  1/15/2020                                 fever  \n",
       "4        NaN                                 fever  "
      ]
     },
     "execution_count": 216,
     "metadata": {},
     "output_type": "execute_result"
    }
   ],
   "source": [
    "covid19_data=pd.read_csv('covid19_data_mar.csv')\n",
    "covid19_data.head()"
   ]
  },
  {
   "cell_type": "code",
   "execution_count": 218,
   "id": "da15af10-8d8b-4b17-9ccc-cf594c88b846",
   "metadata": {},
   "outputs": [
    {
     "name": "stdout",
     "output_type": "stream",
     "text": [
      "<class 'pandas.core.frame.DataFrame'>\n",
      "RangeIndex: 270 entries, 0 to 269\n",
      "Data columns (total 19 columns):\n",
      " #   Column                 Non-Null Count  Dtype  \n",
      "---  ------                 --------------  -----  \n",
      " 0   id                     270 non-null    int64  \n",
      " 1   case_in_country        267 non-null    float64\n",
      " 2   reporting date         270 non-null    object \n",
      " 3   location               270 non-null    object \n",
      " 4   country                270 non-null    object \n",
      " 5   gender                 269 non-null    object \n",
      " 6   age                    265 non-null    float64\n",
      " 7   symptom_onset          252 non-null    object \n",
      " 8   If_onset_approximated  252 non-null    float64\n",
      " 9   hosp_visit_date        214 non-null    object \n",
      " 10  exposure_start         32 non-null     object \n",
      " 11  exposure_end           79 non-null     object \n",
      " 12  incubationdays         270 non-null    object \n",
      " 13  hospitaldays           270 non-null    object \n",
      " 14  visiting Wuhan         270 non-null    int64  \n",
      " 15  from Wuhan             270 non-null    int64  \n",
      " 16  death                  6 non-null      object \n",
      " 17  recovered              36 non-null     object \n",
      " 18  symptom                270 non-null    object \n",
      "dtypes: float64(3), int64(3), object(13)\n",
      "memory usage: 40.2+ KB\n",
      "None\n"
     ]
    }
   ],
   "source": [
    "print(covid19_data.info())"
   ]
  },
  {
   "cell_type": "code",
   "execution_count": 219,
   "id": "82315426-d24f-4374-8cbc-b94a1be7f51e",
   "metadata": {},
   "outputs": [
    {
     "data": {
      "text/html": [
       "<div>\n",
       "<style scoped>\n",
       "    .dataframe tbody tr th:only-of-type {\n",
       "        vertical-align: middle;\n",
       "    }\n",
       "\n",
       "    .dataframe tbody tr th {\n",
       "        vertical-align: top;\n",
       "    }\n",
       "\n",
       "    .dataframe thead th {\n",
       "        text-align: right;\n",
       "    }\n",
       "</style>\n",
       "<table border=\"1\" class=\"dataframe\">\n",
       "  <thead>\n",
       "    <tr style=\"text-align: right;\">\n",
       "      <th></th>\n",
       "      <th>id</th>\n",
       "      <th>case_in_country</th>\n",
       "      <th>reporting date</th>\n",
       "      <th>location</th>\n",
       "      <th>country</th>\n",
       "      <th>gender</th>\n",
       "      <th>age</th>\n",
       "      <th>symptom_onset</th>\n",
       "      <th>If_onset_approximated</th>\n",
       "      <th>hosp_visit_date</th>\n",
       "      <th>exposure_start</th>\n",
       "      <th>exposure_end</th>\n",
       "      <th>incubationdays</th>\n",
       "      <th>hospitaldays</th>\n",
       "      <th>visiting Wuhan</th>\n",
       "      <th>from Wuhan</th>\n",
       "      <th>death</th>\n",
       "      <th>recovered</th>\n",
       "      <th>symptom</th>\n",
       "    </tr>\n",
       "  </thead>\n",
       "  <tbody>\n",
       "    <tr>\n",
       "      <th>0</th>\n",
       "      <td>195</td>\n",
       "      <td>NaN</td>\n",
       "      <td>1/27/2020</td>\n",
       "      <td>Hubei</td>\n",
       "      <td>China</td>\n",
       "      <td>female</td>\n",
       "      <td>28.0</td>\n",
       "      <td>1/7/2020</td>\n",
       "      <td>0.0</td>\n",
       "      <td>1/10/2020</td>\n",
       "      <td>NaN</td>\n",
       "      <td>NaN</td>\n",
       "      <td>#VALUE!</td>\n",
       "      <td>3</td>\n",
       "      <td>0</td>\n",
       "      <td>1</td>\n",
       "      <td>NaN</td>\n",
       "      <td>NaN</td>\n",
       "      <td>fever, cough, difficult in breathing</td>\n",
       "    </tr>\n",
       "    <tr>\n",
       "      <th>1</th>\n",
       "      <td>196</td>\n",
       "      <td>NaN</td>\n",
       "      <td>1/27/2020</td>\n",
       "      <td>Hubei</td>\n",
       "      <td>China</td>\n",
       "      <td>female</td>\n",
       "      <td>51.0</td>\n",
       "      <td>NaN</td>\n",
       "      <td>NaN</td>\n",
       "      <td>1/11/2020</td>\n",
       "      <td>NaN</td>\n",
       "      <td>NaN</td>\n",
       "      <td>#VALUE!</td>\n",
       "      <td>#VALUE!</td>\n",
       "      <td>0</td>\n",
       "      <td>1</td>\n",
       "      <td>NaN</td>\n",
       "      <td>NaN</td>\n",
       "      <td>fever, cough, difficult in breathing</td>\n",
       "    </tr>\n",
       "    <tr>\n",
       "      <th>2</th>\n",
       "      <td>197</td>\n",
       "      <td>NaN</td>\n",
       "      <td>1/27/2020</td>\n",
       "      <td>Shandong</td>\n",
       "      <td>China</td>\n",
       "      <td>male</td>\n",
       "      <td>37.0</td>\n",
       "      <td>NaN</td>\n",
       "      <td>NaN</td>\n",
       "      <td>1/17/2020</td>\n",
       "      <td>NaN</td>\n",
       "      <td>NaN</td>\n",
       "      <td>#VALUE!</td>\n",
       "      <td>#VALUE!</td>\n",
       "      <td>0</td>\n",
       "      <td>1</td>\n",
       "      <td>NaN</td>\n",
       "      <td>NaN</td>\n",
       "      <td>fever</td>\n",
       "    </tr>\n",
       "    <tr>\n",
       "      <th>3</th>\n",
       "      <td>237</td>\n",
       "      <td>1.0</td>\n",
       "      <td>1/15/2020</td>\n",
       "      <td>Kanagawa</td>\n",
       "      <td>Japan</td>\n",
       "      <td>male</td>\n",
       "      <td>35.0</td>\n",
       "      <td>1/3/2020</td>\n",
       "      <td>0.0</td>\n",
       "      <td>1/6/2020</td>\n",
       "      <td>NaN</td>\n",
       "      <td>1/6/2020</td>\n",
       "      <td>#VALUE!</td>\n",
       "      <td>3</td>\n",
       "      <td>1</td>\n",
       "      <td>0</td>\n",
       "      <td>NaN</td>\n",
       "      <td>1/15/2020</td>\n",
       "      <td>fever</td>\n",
       "    </tr>\n",
       "    <tr>\n",
       "      <th>4</th>\n",
       "      <td>241</td>\n",
       "      <td>5.0</td>\n",
       "      <td>1/28/2020</td>\n",
       "      <td>Aichi Prefecture</td>\n",
       "      <td>Japan</td>\n",
       "      <td>male</td>\n",
       "      <td>45.0</td>\n",
       "      <td>1/22/2020</td>\n",
       "      <td>0.0</td>\n",
       "      <td>1/26/2020</td>\n",
       "      <td>NaN</td>\n",
       "      <td>1/20/2020</td>\n",
       "      <td>#VALUE!</td>\n",
       "      <td>4</td>\n",
       "      <td>0</td>\n",
       "      <td>1</td>\n",
       "      <td>NaN</td>\n",
       "      <td>NaN</td>\n",
       "      <td>fever</td>\n",
       "    </tr>\n",
       "  </tbody>\n",
       "</table>\n",
       "</div>"
      ],
      "text/plain": [
       "    id  case_in_country reporting date          location country  gender  \\\n",
       "0  195              NaN      1/27/2020             Hubei   China  female   \n",
       "1  196              NaN      1/27/2020             Hubei   China  female   \n",
       "2  197              NaN      1/27/2020          Shandong   China    male   \n",
       "3  237              1.0      1/15/2020          Kanagawa   Japan    male   \n",
       "4  241              5.0      1/28/2020  Aichi Prefecture   Japan    male   \n",
       "\n",
       "    age symptom_onset  If_onset_approximated hosp_visit_date exposure_start  \\\n",
       "0  28.0      1/7/2020                    0.0       1/10/2020            NaN   \n",
       "1  51.0           NaN                    NaN       1/11/2020            NaN   \n",
       "2  37.0           NaN                    NaN       1/17/2020            NaN   \n",
       "3  35.0      1/3/2020                    0.0        1/6/2020            NaN   \n",
       "4  45.0     1/22/2020                    0.0       1/26/2020            NaN   \n",
       "\n",
       "  exposure_end incubationdays hospitaldays  visiting Wuhan  from Wuhan death  \\\n",
       "0          NaN        #VALUE!            3               0           1   NaN   \n",
       "1          NaN        #VALUE!      #VALUE!               0           1   NaN   \n",
       "2          NaN        #VALUE!      #VALUE!               0           1   NaN   \n",
       "3     1/6/2020        #VALUE!            3               1           0   NaN   \n",
       "4    1/20/2020        #VALUE!            4               0           1   NaN   \n",
       "\n",
       "   recovered                               symptom  \n",
       "0        NaN  fever, cough, difficult in breathing  \n",
       "1        NaN  fever, cough, difficult in breathing  \n",
       "2        NaN                                 fever  \n",
       "3  1/15/2020                                 fever  \n",
       "4        NaN                                 fever  "
      ]
     },
     "execution_count": 219,
     "metadata": {},
     "output_type": "execute_result"
    }
   ],
   "source": [
    "covid19_data.head()"
   ]
  },
  {
   "cell_type": "code",
   "execution_count": 220,
   "id": "6b7ff257-2e9a-48ad-bb37-658b37cba8e1",
   "metadata": {},
   "outputs": [
    {
     "data": {
      "text/html": [
       "<div>\n",
       "<style scoped>\n",
       "    .dataframe tbody tr th:only-of-type {\n",
       "        vertical-align: middle;\n",
       "    }\n",
       "\n",
       "    .dataframe tbody tr th {\n",
       "        vertical-align: top;\n",
       "    }\n",
       "\n",
       "    .dataframe thead th {\n",
       "        text-align: right;\n",
       "    }\n",
       "</style>\n",
       "<table border=\"1\" class=\"dataframe\">\n",
       "  <thead>\n",
       "    <tr style=\"text-align: right;\">\n",
       "      <th></th>\n",
       "      <th>id</th>\n",
       "      <th>case_in_country</th>\n",
       "      <th>reporting date</th>\n",
       "      <th>location</th>\n",
       "      <th>country</th>\n",
       "      <th>gender</th>\n",
       "      <th>age</th>\n",
       "      <th>symptom_onset</th>\n",
       "      <th>If_onset_approximated</th>\n",
       "      <th>hosp_visit_date</th>\n",
       "      <th>exposure_start</th>\n",
       "      <th>exposure_end</th>\n",
       "      <th>incubationdays</th>\n",
       "      <th>hospitaldays</th>\n",
       "      <th>visiting Wuhan</th>\n",
       "      <th>from Wuhan</th>\n",
       "      <th>death</th>\n",
       "      <th>recovered</th>\n",
       "      <th>symptom</th>\n",
       "    </tr>\n",
       "  </thead>\n",
       "  <tbody>\n",
       "    <tr>\n",
       "      <th>0</th>\n",
       "      <td>False</td>\n",
       "      <td>True</td>\n",
       "      <td>False</td>\n",
       "      <td>False</td>\n",
       "      <td>False</td>\n",
       "      <td>False</td>\n",
       "      <td>False</td>\n",
       "      <td>False</td>\n",
       "      <td>False</td>\n",
       "      <td>False</td>\n",
       "      <td>True</td>\n",
       "      <td>True</td>\n",
       "      <td>False</td>\n",
       "      <td>False</td>\n",
       "      <td>False</td>\n",
       "      <td>False</td>\n",
       "      <td>True</td>\n",
       "      <td>True</td>\n",
       "      <td>False</td>\n",
       "    </tr>\n",
       "    <tr>\n",
       "      <th>1</th>\n",
       "      <td>False</td>\n",
       "      <td>True</td>\n",
       "      <td>False</td>\n",
       "      <td>False</td>\n",
       "      <td>False</td>\n",
       "      <td>False</td>\n",
       "      <td>False</td>\n",
       "      <td>True</td>\n",
       "      <td>True</td>\n",
       "      <td>False</td>\n",
       "      <td>True</td>\n",
       "      <td>True</td>\n",
       "      <td>False</td>\n",
       "      <td>False</td>\n",
       "      <td>False</td>\n",
       "      <td>False</td>\n",
       "      <td>True</td>\n",
       "      <td>True</td>\n",
       "      <td>False</td>\n",
       "    </tr>\n",
       "    <tr>\n",
       "      <th>2</th>\n",
       "      <td>False</td>\n",
       "      <td>True</td>\n",
       "      <td>False</td>\n",
       "      <td>False</td>\n",
       "      <td>False</td>\n",
       "      <td>False</td>\n",
       "      <td>False</td>\n",
       "      <td>True</td>\n",
       "      <td>True</td>\n",
       "      <td>False</td>\n",
       "      <td>True</td>\n",
       "      <td>True</td>\n",
       "      <td>False</td>\n",
       "      <td>False</td>\n",
       "      <td>False</td>\n",
       "      <td>False</td>\n",
       "      <td>True</td>\n",
       "      <td>True</td>\n",
       "      <td>False</td>\n",
       "    </tr>\n",
       "    <tr>\n",
       "      <th>3</th>\n",
       "      <td>False</td>\n",
       "      <td>False</td>\n",
       "      <td>False</td>\n",
       "      <td>False</td>\n",
       "      <td>False</td>\n",
       "      <td>False</td>\n",
       "      <td>False</td>\n",
       "      <td>False</td>\n",
       "      <td>False</td>\n",
       "      <td>False</td>\n",
       "      <td>True</td>\n",
       "      <td>False</td>\n",
       "      <td>False</td>\n",
       "      <td>False</td>\n",
       "      <td>False</td>\n",
       "      <td>False</td>\n",
       "      <td>True</td>\n",
       "      <td>False</td>\n",
       "      <td>False</td>\n",
       "    </tr>\n",
       "    <tr>\n",
       "      <th>4</th>\n",
       "      <td>False</td>\n",
       "      <td>False</td>\n",
       "      <td>False</td>\n",
       "      <td>False</td>\n",
       "      <td>False</td>\n",
       "      <td>False</td>\n",
       "      <td>False</td>\n",
       "      <td>False</td>\n",
       "      <td>False</td>\n",
       "      <td>False</td>\n",
       "      <td>True</td>\n",
       "      <td>False</td>\n",
       "      <td>False</td>\n",
       "      <td>False</td>\n",
       "      <td>False</td>\n",
       "      <td>False</td>\n",
       "      <td>True</td>\n",
       "      <td>True</td>\n",
       "      <td>False</td>\n",
       "    </tr>\n",
       "    <tr>\n",
       "      <th>...</th>\n",
       "      <td>...</td>\n",
       "      <td>...</td>\n",
       "      <td>...</td>\n",
       "      <td>...</td>\n",
       "      <td>...</td>\n",
       "      <td>...</td>\n",
       "      <td>...</td>\n",
       "      <td>...</td>\n",
       "      <td>...</td>\n",
       "      <td>...</td>\n",
       "      <td>...</td>\n",
       "      <td>...</td>\n",
       "      <td>...</td>\n",
       "      <td>...</td>\n",
       "      <td>...</td>\n",
       "      <td>...</td>\n",
       "      <td>...</td>\n",
       "      <td>...</td>\n",
       "      <td>...</td>\n",
       "    </tr>\n",
       "    <tr>\n",
       "      <th>265</th>\n",
       "      <td>False</td>\n",
       "      <td>False</td>\n",
       "      <td>False</td>\n",
       "      <td>False</td>\n",
       "      <td>False</td>\n",
       "      <td>False</td>\n",
       "      <td>False</td>\n",
       "      <td>False</td>\n",
       "      <td>False</td>\n",
       "      <td>False</td>\n",
       "      <td>True</td>\n",
       "      <td>True</td>\n",
       "      <td>False</td>\n",
       "      <td>False</td>\n",
       "      <td>False</td>\n",
       "      <td>False</td>\n",
       "      <td>True</td>\n",
       "      <td>True</td>\n",
       "      <td>False</td>\n",
       "    </tr>\n",
       "    <tr>\n",
       "      <th>266</th>\n",
       "      <td>False</td>\n",
       "      <td>False</td>\n",
       "      <td>False</td>\n",
       "      <td>False</td>\n",
       "      <td>False</td>\n",
       "      <td>False</td>\n",
       "      <td>False</td>\n",
       "      <td>False</td>\n",
       "      <td>False</td>\n",
       "      <td>False</td>\n",
       "      <td>True</td>\n",
       "      <td>False</td>\n",
       "      <td>False</td>\n",
       "      <td>False</td>\n",
       "      <td>False</td>\n",
       "      <td>False</td>\n",
       "      <td>False</td>\n",
       "      <td>True</td>\n",
       "      <td>False</td>\n",
       "    </tr>\n",
       "    <tr>\n",
       "      <th>267</th>\n",
       "      <td>False</td>\n",
       "      <td>False</td>\n",
       "      <td>False</td>\n",
       "      <td>False</td>\n",
       "      <td>False</td>\n",
       "      <td>False</td>\n",
       "      <td>False</td>\n",
       "      <td>False</td>\n",
       "      <td>False</td>\n",
       "      <td>False</td>\n",
       "      <td>True</td>\n",
       "      <td>False</td>\n",
       "      <td>False</td>\n",
       "      <td>False</td>\n",
       "      <td>False</td>\n",
       "      <td>False</td>\n",
       "      <td>True</td>\n",
       "      <td>True</td>\n",
       "      <td>False</td>\n",
       "    </tr>\n",
       "    <tr>\n",
       "      <th>268</th>\n",
       "      <td>False</td>\n",
       "      <td>False</td>\n",
       "      <td>False</td>\n",
       "      <td>False</td>\n",
       "      <td>False</td>\n",
       "      <td>False</td>\n",
       "      <td>False</td>\n",
       "      <td>True</td>\n",
       "      <td>True</td>\n",
       "      <td>False</td>\n",
       "      <td>True</td>\n",
       "      <td>True</td>\n",
       "      <td>False</td>\n",
       "      <td>False</td>\n",
       "      <td>False</td>\n",
       "      <td>False</td>\n",
       "      <td>True</td>\n",
       "      <td>True</td>\n",
       "      <td>False</td>\n",
       "    </tr>\n",
       "    <tr>\n",
       "      <th>269</th>\n",
       "      <td>False</td>\n",
       "      <td>False</td>\n",
       "      <td>False</td>\n",
       "      <td>False</td>\n",
       "      <td>False</td>\n",
       "      <td>False</td>\n",
       "      <td>False</td>\n",
       "      <td>False</td>\n",
       "      <td>False</td>\n",
       "      <td>True</td>\n",
       "      <td>True</td>\n",
       "      <td>False</td>\n",
       "      <td>False</td>\n",
       "      <td>False</td>\n",
       "      <td>False</td>\n",
       "      <td>False</td>\n",
       "      <td>True</td>\n",
       "      <td>True</td>\n",
       "      <td>False</td>\n",
       "    </tr>\n",
       "  </tbody>\n",
       "</table>\n",
       "<p>270 rows × 19 columns</p>\n",
       "</div>"
      ],
      "text/plain": [
       "        id  case_in_country  reporting date  location  country  gender    age  \\\n",
       "0    False             True           False     False    False   False  False   \n",
       "1    False             True           False     False    False   False  False   \n",
       "2    False             True           False     False    False   False  False   \n",
       "3    False            False           False     False    False   False  False   \n",
       "4    False            False           False     False    False   False  False   \n",
       "..     ...              ...             ...       ...      ...     ...    ...   \n",
       "265  False            False           False     False    False   False  False   \n",
       "266  False            False           False     False    False   False  False   \n",
       "267  False            False           False     False    False   False  False   \n",
       "268  False            False           False     False    False   False  False   \n",
       "269  False            False           False     False    False   False  False   \n",
       "\n",
       "     symptom_onset  If_onset_approximated  hosp_visit_date  exposure_start  \\\n",
       "0            False                  False            False            True   \n",
       "1             True                   True            False            True   \n",
       "2             True                   True            False            True   \n",
       "3            False                  False            False            True   \n",
       "4            False                  False            False            True   \n",
       "..             ...                    ...              ...             ...   \n",
       "265          False                  False            False            True   \n",
       "266          False                  False            False            True   \n",
       "267          False                  False            False            True   \n",
       "268           True                   True            False            True   \n",
       "269          False                  False             True            True   \n",
       "\n",
       "     exposure_end  incubationdays  hospitaldays  visiting Wuhan  from Wuhan  \\\n",
       "0            True           False         False           False       False   \n",
       "1            True           False         False           False       False   \n",
       "2            True           False         False           False       False   \n",
       "3           False           False         False           False       False   \n",
       "4           False           False         False           False       False   \n",
       "..            ...             ...           ...             ...         ...   \n",
       "265          True           False         False           False       False   \n",
       "266         False           False         False           False       False   \n",
       "267         False           False         False           False       False   \n",
       "268          True           False         False           False       False   \n",
       "269         False           False         False           False       False   \n",
       "\n",
       "     death  recovered  symptom  \n",
       "0     True       True    False  \n",
       "1     True       True    False  \n",
       "2     True       True    False  \n",
       "3     True      False    False  \n",
       "4     True       True    False  \n",
       "..     ...        ...      ...  \n",
       "265   True       True    False  \n",
       "266  False       True    False  \n",
       "267   True       True    False  \n",
       "268   True       True    False  \n",
       "269   True       True    False  \n",
       "\n",
       "[270 rows x 19 columns]"
      ]
     },
     "execution_count": 220,
     "metadata": {},
     "output_type": "execute_result"
    }
   ],
   "source": [
    "covid19_data.isnull()"
   ]
  },
  {
   "cell_type": "code",
   "execution_count": 221,
   "id": "b720693a-e85e-4e8b-afac-4c47028292de",
   "metadata": {},
   "outputs": [
    {
     "data": {
      "text/plain": [
       "id                         0\n",
       "case_in_country            3\n",
       "reporting date             0\n",
       "location                   0\n",
       "country                    0\n",
       "gender                     1\n",
       "age                        5\n",
       "symptom_onset             18\n",
       "If_onset_approximated     18\n",
       "hosp_visit_date           56\n",
       "exposure_start           238\n",
       "exposure_end             191\n",
       "incubationdays             0\n",
       "hospitaldays               0\n",
       "visiting Wuhan             0\n",
       "from Wuhan                 0\n",
       "death                    264\n",
       "recovered                234\n",
       "symptom                    0\n",
       "dtype: int64"
      ]
     },
     "execution_count": 221,
     "metadata": {},
     "output_type": "execute_result"
    }
   ],
   "source": [
    "covid19_data.isnull().sum()"
   ]
  },
  {
   "cell_type": "code",
   "execution_count": 206,
   "id": "def358bd-7a8d-4b87-b8e1-19593e4246a5",
   "metadata": {},
   "outputs": [
    {
     "data": {
      "text/plain": [
       "id                        0.00\n",
       "case_in_country           1.11\n",
       "reporting date            0.00\n",
       "location                  0.00\n",
       "country                   0.00\n",
       "gender                    0.37\n",
       "age                       1.85\n",
       "symptom_onset             6.67\n",
       "If_onset_approximated     6.67\n",
       "hosp_visit_date          20.74\n",
       "exposure_start           88.15\n",
       "exposure_end             70.74\n",
       "incubationdays            0.00\n",
       "hospitaldays              0.00\n",
       "visiting Wuhan            0.00\n",
       "from Wuhan                0.00\n",
       "death                    97.78\n",
       "recovered                86.67\n",
       "symptom                   0.00\n",
       "dtype: float64"
      ]
     },
     "execution_count": 206,
     "metadata": {},
     "output_type": "execute_result"
    }
   ],
   "source": [
    "round(100*(covid19_data.isnull().sum()/len(covid19_data.index)), 2)"
   ]
  },
  {
   "cell_type": "code",
   "execution_count": 222,
   "id": "d000b037-c744-419e-92b6-bbb4623ba330",
   "metadata": {},
   "outputs": [
    {
     "name": "stdout",
     "output_type": "stream",
     "text": [
      "incubationdays\n",
      "hospitaldays\n"
     ]
    }
   ],
   "source": [
    "#To search for values in all columns\n",
    "for i in covid19_data.columns:\n",
    "     covid19_data[i].astype('category').apply(lambda x: print(covid19_data[i].name) if x=='#VALUE!' else 'continue')"
   ]
  },
  {
   "cell_type": "code",
   "execution_count": null,
   "id": "98b1cea0-682d-46b4-bb12-ff7558843596",
   "metadata": {},
   "outputs": [],
   "source": [
    "#covert the objects to numeric data while the objects in the data becomes null\n",
    "#df['column']=pd.to_numeric(df['column'], errors='coerce')"
   ]
  },
  {
   "cell_type": "code",
   "execution_count": 223,
   "id": "6589228e-feae-4b3d-981a-619e174065c9",
   "metadata": {},
   "outputs": [
    {
     "data": {
      "text/plain": [
       "#VALUE!    239\n",
       "6            4\n",
       "9            4\n",
       "10           3\n",
       "5            3\n",
       "12           2\n",
       "4            2\n",
       "7            2\n",
       "8            2\n",
       "13           1\n",
       "18           1\n",
       "22           1\n",
       "23           1\n",
       "-1           1\n",
       "32           1\n",
       "34           1\n",
       "1            1\n",
       "3            1\n",
       "Name: incubationdays, dtype: int64"
      ]
     },
     "execution_count": 223,
     "metadata": {},
     "output_type": "execute_result"
    }
   ],
   "source": [
    "#covid19_data.loc[(covid19_data['incubationdays'])=='#VALUE!', 'incubationdays']=''\n",
    "#covid19_data.loc[(covid19_data['hospitaldays'])=='#VALUE!', 'hospitaldays']=''\n",
    "covid19_data['hospitaldays'].astype('category').value_counts()\n",
    "covid19_data['incubationdays'].astype('category').value_counts()"
   ]
  },
  {
   "cell_type": "code",
   "execution_count": 224,
   "id": "dc67d5c6-1f57-40c2-96f9-b7736ddd0d78",
   "metadata": {},
   "outputs": [],
   "source": [
    "covid19_data=covid19_data.drop('exposure_start', axis=1)\n",
    "covid19_data=covid19_data.drop('exposure_end', axis=1)\n",
    "covid19_data=covid19_data.drop('death', axis=1)\n",
    "covid19_data=covid19_data.drop('recovered', axis=1) \n",
    "covid19_data=covid19_data.drop('incubationdays', axis=1)"
   ]
  },
  {
   "cell_type": "code",
   "execution_count": 225,
   "id": "51667a5b-6232-420b-91c9-ff5c38269012",
   "metadata": {},
   "outputs": [
    {
     "data": {
      "text/plain": [
       "id                        0.00\n",
       "case_in_country           1.11\n",
       "reporting date            0.00\n",
       "location                  0.00\n",
       "country                   0.00\n",
       "gender                    0.37\n",
       "age                       1.85\n",
       "symptom_onset             6.67\n",
       "If_onset_approximated     6.67\n",
       "hosp_visit_date          20.74\n",
       "hospitaldays              0.00\n",
       "visiting Wuhan            0.00\n",
       "from Wuhan                0.00\n",
       "symptom                   0.00\n",
       "dtype: float64"
      ]
     },
     "execution_count": 225,
     "metadata": {},
     "output_type": "execute_result"
    }
   ],
   "source": [
    "round(100*(covid19_data.isnull().sum()/len(covid19_data.index)), 2)"
   ]
  },
  {
   "cell_type": "code",
   "execution_count": 226,
   "id": "ecd000df-b887-4694-bd3f-2166f8340219",
   "metadata": {},
   "outputs": [
    {
     "data": {
      "text/html": [
       "<div>\n",
       "<style scoped>\n",
       "    .dataframe tbody tr th:only-of-type {\n",
       "        vertical-align: middle;\n",
       "    }\n",
       "\n",
       "    .dataframe tbody tr th {\n",
       "        vertical-align: top;\n",
       "    }\n",
       "\n",
       "    .dataframe thead th {\n",
       "        text-align: right;\n",
       "    }\n",
       "</style>\n",
       "<table border=\"1\" class=\"dataframe\">\n",
       "  <thead>\n",
       "    <tr style=\"text-align: right;\">\n",
       "      <th></th>\n",
       "      <th>id</th>\n",
       "      <th>case_in_country</th>\n",
       "      <th>reporting date</th>\n",
       "      <th>location</th>\n",
       "      <th>country</th>\n",
       "      <th>gender</th>\n",
       "      <th>age</th>\n",
       "      <th>symptom_onset</th>\n",
       "      <th>If_onset_approximated</th>\n",
       "      <th>hosp_visit_date</th>\n",
       "      <th>hospitaldays</th>\n",
       "      <th>visiting Wuhan</th>\n",
       "      <th>from Wuhan</th>\n",
       "      <th>symptom</th>\n",
       "    </tr>\n",
       "  </thead>\n",
       "  <tbody>\n",
       "  </tbody>\n",
       "</table>\n",
       "</div>"
      ],
      "text/plain": [
       "Empty DataFrame\n",
       "Columns: [id, case_in_country, reporting date, location, country, gender, age, symptom_onset, If_onset_approximated, hosp_visit_date, hospitaldays, visiting Wuhan, from Wuhan, symptom]\n",
       "Index: []"
      ]
     },
     "execution_count": 226,
     "metadata": {},
     "output_type": "execute_result"
    }
   ],
   "source": [
    "covid19_data[covid19_data.isnull().sum(axis=1)>=5]"
   ]
  },
  {
   "cell_type": "code",
   "execution_count": 227,
   "id": "974cafb1-ae4c-4b1d-99b7-db5f445ae7e2",
   "metadata": {},
   "outputs": [
    {
     "data": {
      "text/plain": [
       "0"
      ]
     },
     "execution_count": 227,
     "metadata": {},
     "output_type": "execute_result"
    }
   ],
   "source": [
    "len(covid19_data[covid19_data.isnull().sum(axis=1)>=5].index)"
   ]
  },
  {
   "cell_type": "code",
   "execution_count": 212,
   "id": "aaed057c-297b-4d7c-9dca-ee79f038a3da",
   "metadata": {},
   "outputs": [
    {
     "data": {
      "text/plain": [
       "count    267.000000\n",
       "mean      67.456929\n",
       "std       59.275521\n",
       "min        1.000000\n",
       "25%       15.500000\n",
       "50%       51.000000\n",
       "75%      111.500000\n",
       "max      190.000000\n",
       "Name: case_in_country, dtype: float64"
      ]
     },
     "execution_count": 212,
     "metadata": {},
     "output_type": "execute_result"
    }
   ],
   "source": [
    "covid19_data['case_in_country'].describe()"
   ]
  },
  {
   "cell_type": "code",
   "execution_count": 232,
   "id": "93d04cba-07bc-4107-a7bb-837e60214c36",
   "metadata": {},
   "outputs": [
    {
     "data": {
      "text/plain": [
       "1.0      13\n",
       "25.0      5\n",
       "5.0       5\n",
       "15.0      5\n",
       "14.0      4\n",
       "         ..\n",
       "89.0      1\n",
       "83.0      1\n",
       "82.0      1\n",
       "80.0      1\n",
       "190.0     1\n",
       "Name: case_in_country, Length: 167, dtype: int64"
      ]
     },
     "execution_count": 232,
     "metadata": {},
     "output_type": "execute_result"
    }
   ],
   "source": [
    "covid19_data['case_in_country'].astype('category').value_counts()"
   ]
  },
  {
   "cell_type": "code",
   "execution_count": 233,
   "id": "bdfa8d6f-33f4-4859-ab16-4273a1b9c311",
   "metadata": {},
   "outputs": [
    {
     "data": {
      "text/plain": [
       "id                        0.00\n",
       "case_in_country           0.00\n",
       "reporting date            0.00\n",
       "location                  0.00\n",
       "country                   0.00\n",
       "gender                    0.37\n",
       "age                       1.87\n",
       "symptom_onset             5.99\n",
       "If_onset_approximated     5.99\n",
       "hosp_visit_date          20.97\n",
       "hospitaldays              0.00\n",
       "visiting Wuhan            0.00\n",
       "from Wuhan                0.00\n",
       "symptom                   0.00\n",
       "dtype: float64"
      ]
     },
     "execution_count": 233,
     "metadata": {},
     "output_type": "execute_result"
    }
   ],
   "source": [
    "covid19_data=covid19_data[~pd.isnull(covid19_data['case_in_country'])]\n",
    "round(100*(covid19_data.isnull().sum()/len(covid19_data.index)), 2)"
   ]
  },
  {
   "cell_type": "code",
   "execution_count": 235,
   "id": "6c5209bd-bed0-4ce6-8e07-7ba49cc63170",
   "metadata": {},
   "outputs": [
    {
     "data": {
      "text/plain": [
       "count      266\n",
       "unique       2\n",
       "top       male\n",
       "freq       161\n",
       "Name: gender, dtype: object"
      ]
     },
     "execution_count": 235,
     "metadata": {},
     "output_type": "execute_result"
    }
   ],
   "source": [
    "covid19_data['gender'].describe()"
   ]
  },
  {
   "cell_type": "code",
   "execution_count": 236,
   "id": "94667ea3-e874-4141-8c2c-de0e9fa80a8c",
   "metadata": {},
   "outputs": [
    {
     "data": {
      "text/plain": [
       "id                        0.00\n",
       "case_in_country           0.00\n",
       "reporting date            0.00\n",
       "location                  0.00\n",
       "country                   0.00\n",
       "gender                    0.00\n",
       "age                       1.50\n",
       "symptom_onset             6.02\n",
       "If_onset_approximated     6.02\n",
       "hosp_visit_date          21.05\n",
       "hospitaldays              0.00\n",
       "visiting Wuhan            0.00\n",
       "from Wuhan                0.00\n",
       "symptom                   0.00\n",
       "dtype: float64"
      ]
     },
     "execution_count": 236,
     "metadata": {},
     "output_type": "execute_result"
    }
   ],
   "source": [
    "covid19_data=covid19_data[~pd.isnull(covid19_data['gender'])]\n",
    "round(100*(covid19_data.isnull().sum()/len(covid19_data.index)), 2)"
   ]
  },
  {
   "cell_type": "code",
   "execution_count": 237,
   "id": "5b91de18-c44b-4fa7-8690-fdc6c36c6966",
   "metadata": {},
   "outputs": [
    {
     "data": {
      "text/plain": [
       "count    262.000000\n",
       "mean      53.469466\n",
       "std       17.564687\n",
       "min        4.000000\n",
       "25%       44.250000\n",
       "50%       55.000000\n",
       "75%       65.000000\n",
       "max       89.000000\n",
       "Name: age, dtype: float64"
      ]
     },
     "execution_count": 237,
     "metadata": {},
     "output_type": "execute_result"
    }
   ],
   "source": [
    "covid19_data['age'].describe()"
   ]
  },
  {
   "cell_type": "code",
   "execution_count": 238,
   "id": "031e6890-6f7e-473a-9b9e-3ddb6f4ff9b6",
   "metadata": {},
   "outputs": [
    {
     "data": {
      "text/plain": [
       "55.0    48\n",
       "65.0    35\n",
       "75.0    28\n",
       "45.0    23\n",
       "25.0    17\n",
       "35.0    14\n",
       "85.0     9\n",
       "60.0     5\n",
       "70.0     5\n",
       "28.0     5\n",
       "47.0     4\n",
       "50.0     3\n",
       "37.0     3\n",
       "68.0     3\n",
       "63.0     3\n",
       "32.0     3\n",
       "42.0     3\n",
       "56.0     3\n",
       "5.0      3\n",
       "54.0     2\n",
       "61.0     2\n",
       "33.0     2\n",
       "73.0     2\n",
       "39.0     2\n",
       "62.0     2\n",
       "64.0     2\n",
       "80.0     2\n",
       "40.0     2\n",
       "46.0     2\n",
       "51.0     1\n",
       "43.0     1\n",
       "89.0     1\n",
       "44.0     1\n",
       "67.0     1\n",
       "69.0     1\n",
       "58.0     1\n",
       "49.0     1\n",
       "21.0     1\n",
       "16.0     1\n",
       "26.0     1\n",
       "24.0     1\n",
       "82.0     1\n",
       "72.0     1\n",
       "66.0     1\n",
       "57.0     1\n",
       "52.0     1\n",
       "41.0     1\n",
       "53.0     1\n",
       "27.0     1\n",
       "31.0     1\n",
       "59.0     1\n",
       "4.0      1\n",
       "15.0     1\n",
       "22.0     1\n",
       "Name: age, dtype: int64"
      ]
     },
     "execution_count": 238,
     "metadata": {},
     "output_type": "execute_result"
    }
   ],
   "source": [
    "covid19_data['age'].value_counts()"
   ]
  },
  {
   "cell_type": "code",
   "execution_count": 239,
   "id": "54a8424d-2d9d-491c-91d7-39073c1614f8",
   "metadata": {},
   "outputs": [
    {
     "data": {
      "text/plain": [
       "id                        0.00\n",
       "case_in_country           0.00\n",
       "reporting date            0.00\n",
       "location                  0.00\n",
       "country                   0.00\n",
       "gender                    0.00\n",
       "age                       0.00\n",
       "symptom_onset             5.73\n",
       "If_onset_approximated     5.73\n",
       "hosp_visit_date          20.99\n",
       "hospitaldays              0.00\n",
       "visiting Wuhan            0.00\n",
       "from Wuhan                0.00\n",
       "symptom                   0.00\n",
       "dtype: float64"
      ]
     },
     "execution_count": 239,
     "metadata": {},
     "output_type": "execute_result"
    }
   ],
   "source": [
    "covid19_data=covid19_data[~pd.isnull(covid19_data['age'])]\n",
    "round(100*(covid19_data.isnull().sum()/len(covid19_data.index)), 2)"
   ]
  },
  {
   "cell_type": "code",
   "execution_count": 240,
   "id": "cd3739ce-93f3-462d-9d86-9624656dd72a",
   "metadata": {},
   "outputs": [
    {
     "data": {
      "text/plain": [
       "id                        0.00\n",
       "case_in_country           0.00\n",
       "reporting date            0.00\n",
       "location                  0.00\n",
       "country                   0.00\n",
       "gender                    0.00\n",
       "age                       0.00\n",
       "symptom_onset             0.00\n",
       "If_onset_approximated     0.00\n",
       "hosp_visit_date          20.24\n",
       "hospitaldays              0.00\n",
       "visiting Wuhan            0.00\n",
       "from Wuhan                0.00\n",
       "symptom                   0.00\n",
       "dtype: float64"
      ]
     },
     "execution_count": 240,
     "metadata": {},
     "output_type": "execute_result"
    }
   ],
   "source": [
    "covid19_data=covid19_data[~pd.isnull(covid19_data['symptom_onset'])]\n",
    "round(100*(covid19_data.isnull().sum()/len(covid19_data.index)), 2)"
   ]
  },
  {
   "cell_type": "code",
   "execution_count": 266,
   "id": "70559003-d34d-4673-b3d0-a00a2982695c",
   "metadata": {},
   "outputs": [
    {
     "data": {
      "text/plain": [
       "id                       0.0\n",
       "case_in_country          0.0\n",
       "reporting date           0.0\n",
       "location                 0.0\n",
       "country                  0.0\n",
       "gender                   0.0\n",
       "age                      0.0\n",
       "symptom_onset            0.0\n",
       "If_onset_approximated    0.0\n",
       "hosp_visit_date          0.0\n",
       "hospitaldays             0.0\n",
       "visiting Wuhan           0.0\n",
       "from Wuhan               0.0\n",
       "symptom                  0.0\n",
       "dtype: float64"
      ]
     },
     "execution_count": 266,
     "metadata": {},
     "output_type": "execute_result"
    }
   ],
   "source": [
    "covid19_data=covid19_data[~pd.isnull(covid19_data['hosp_visit_date'])]\n",
    "round(100*(covid19_data.isnull().sum()/len(covid19_data.index)), 2)"
   ]
  },
  {
   "cell_type": "code",
   "execution_count": 268,
   "id": "24ca6a3c-23fa-4fd0-aba4-ebeae240e287",
   "metadata": {},
   "outputs": [
    {
     "data": {
      "text/plain": [
       "3      237\n",
       "4      241\n",
       "5      242\n",
       "6      243\n",
       "7      244\n",
       "      ... \n",
       "263    962\n",
       "264    963\n",
       "265    964\n",
       "266    993\n",
       "267    996\n",
       "Name: id, Length: 197, dtype: int64"
      ]
     },
     "execution_count": 268,
     "metadata": {},
     "output_type": "execute_result"
    }
   ],
   "source": [
    "covid19_data['id'].drop_duplicates()"
   ]
  },
  {
   "cell_type": "code",
   "execution_count": 269,
   "id": "29279806-ab7e-4ac1-b0a2-da4b22ed549b",
   "metadata": {},
   "outputs": [
    {
     "data": {
      "text/plain": [
       "(197, 14)"
      ]
     },
     "execution_count": 269,
     "metadata": {},
     "output_type": "execute_result"
    }
   ],
   "source": [
    "covid19_data.shape"
   ]
  },
  {
   "cell_type": "code",
   "execution_count": 282,
   "id": "e3cb1a9a-fc12-4443-91eb-7f6283005037",
   "metadata": {},
   "outputs": [
    {
     "data": {
      "text/html": [
       "<div>\n",
       "<style scoped>\n",
       "    .dataframe tbody tr th:only-of-type {\n",
       "        vertical-align: middle;\n",
       "    }\n",
       "\n",
       "    .dataframe tbody tr th {\n",
       "        vertical-align: top;\n",
       "    }\n",
       "\n",
       "    .dataframe thead th {\n",
       "        text-align: right;\n",
       "    }\n",
       "</style>\n",
       "<table border=\"1\" class=\"dataframe\">\n",
       "  <thead>\n",
       "    <tr style=\"text-align: right;\">\n",
       "      <th></th>\n",
       "      <th>id</th>\n",
       "      <th>case_in_country</th>\n",
       "      <th>reporting date</th>\n",
       "      <th>location</th>\n",
       "      <th>country</th>\n",
       "      <th>gender</th>\n",
       "      <th>age</th>\n",
       "      <th>symptom_onset</th>\n",
       "      <th>If_onset_approximated</th>\n",
       "      <th>hosp_visit_date</th>\n",
       "      <th>hospitaldays</th>\n",
       "      <th>visiting Wuhan</th>\n",
       "      <th>from Wuhan</th>\n",
       "      <th>symptom</th>\n",
       "    </tr>\n",
       "  </thead>\n",
       "  <tbody>\n",
       "    <tr>\n",
       "      <th>3</th>\n",
       "      <td>237</td>\n",
       "      <td>1.0</td>\n",
       "      <td>2020-01-15</td>\n",
       "      <td>Kanagawa</td>\n",
       "      <td>Japan</td>\n",
       "      <td>male</td>\n",
       "      <td>35.0</td>\n",
       "      <td>1/3/2020</td>\n",
       "      <td>0.0</td>\n",
       "      <td>1/6/2020</td>\n",
       "      <td>3</td>\n",
       "      <td>1</td>\n",
       "      <td>0</td>\n",
       "      <td>fever</td>\n",
       "    </tr>\n",
       "    <tr>\n",
       "      <th>4</th>\n",
       "      <td>241</td>\n",
       "      <td>5.0</td>\n",
       "      <td>2020-01-28</td>\n",
       "      <td>Aichi Prefecture</td>\n",
       "      <td>Japan</td>\n",
       "      <td>male</td>\n",
       "      <td>45.0</td>\n",
       "      <td>1/22/2020</td>\n",
       "      <td>0.0</td>\n",
       "      <td>1/26/2020</td>\n",
       "      <td>4</td>\n",
       "      <td>0</td>\n",
       "      <td>1</td>\n",
       "      <td>fever</td>\n",
       "    </tr>\n",
       "    <tr>\n",
       "      <th>5</th>\n",
       "      <td>242</td>\n",
       "      <td>6.0</td>\n",
       "      <td>2020-01-28</td>\n",
       "      <td>Nara Prefecture</td>\n",
       "      <td>Japan</td>\n",
       "      <td>male</td>\n",
       "      <td>65.0</td>\n",
       "      <td>1/14/2020</td>\n",
       "      <td>0.0</td>\n",
       "      <td>1/17/2020</td>\n",
       "      <td>3</td>\n",
       "      <td>0</td>\n",
       "      <td>0</td>\n",
       "      <td>cough, chills, joint pain</td>\n",
       "    </tr>\n",
       "    <tr>\n",
       "      <th>6</th>\n",
       "      <td>243</td>\n",
       "      <td>7.0</td>\n",
       "      <td>2020-01-28</td>\n",
       "      <td>Hokkaido</td>\n",
       "      <td>Japan</td>\n",
       "      <td>female</td>\n",
       "      <td>45.0</td>\n",
       "      <td>1/26/2020</td>\n",
       "      <td>0.0</td>\n",
       "      <td>1/27/2020</td>\n",
       "      <td>1</td>\n",
       "      <td>1</td>\n",
       "      <td>1</td>\n",
       "      <td>fever, cough</td>\n",
       "    </tr>\n",
       "    <tr>\n",
       "      <th>7</th>\n",
       "      <td>244</td>\n",
       "      <td>8.0</td>\n",
       "      <td>2020-01-29</td>\n",
       "      <td>Osaka Prefecture</td>\n",
       "      <td>Japan</td>\n",
       "      <td>female</td>\n",
       "      <td>45.0</td>\n",
       "      <td>1/20/2020</td>\n",
       "      <td>0.0</td>\n",
       "      <td>1/20/2020</td>\n",
       "      <td>0</td>\n",
       "      <td>0</td>\n",
       "      <td>0</td>\n",
       "      <td>fever, cough</td>\n",
       "    </tr>\n",
       "  </tbody>\n",
       "</table>\n",
       "</div>"
      ],
      "text/plain": [
       "    id  case_in_country reporting date          location country  gender  \\\n",
       "3  237              1.0     2020-01-15          Kanagawa   Japan    male   \n",
       "4  241              5.0     2020-01-28  Aichi Prefecture   Japan    male   \n",
       "5  242              6.0     2020-01-28   Nara Prefecture   Japan    male   \n",
       "6  243              7.0     2020-01-28          Hokkaido   Japan  female   \n",
       "7  244              8.0     2020-01-29  Osaka Prefecture   Japan  female   \n",
       "\n",
       "    age symptom_onset  If_onset_approximated hosp_visit_date hospitaldays  \\\n",
       "3  35.0      1/3/2020                    0.0        1/6/2020            3   \n",
       "4  45.0     1/22/2020                    0.0       1/26/2020            4   \n",
       "5  65.0     1/14/2020                    0.0       1/17/2020            3   \n",
       "6  45.0     1/26/2020                    0.0       1/27/2020            1   \n",
       "7  45.0     1/20/2020                    0.0       1/20/2020            0   \n",
       "\n",
       "   visiting Wuhan  from Wuhan                    symptom  \n",
       "3               1           0                      fever  \n",
       "4               0           1                      fever  \n",
       "5               0           0  cough, chills, joint pain  \n",
       "6               1           1               fever, cough  \n",
       "7               0           0               fever, cough  "
      ]
     },
     "execution_count": 282,
     "metadata": {},
     "output_type": "execute_result"
    }
   ],
   "source": [
    "covid19_data.head()"
   ]
  },
  {
   "cell_type": "code",
   "execution_count": 280,
   "id": "27940b07-042d-4197-9ec4-182e708358b9",
   "metadata": {},
   "outputs": [
    {
     "name": "stdout",
     "output_type": "stream",
     "text": [
      "<class 'pandas.core.frame.DataFrame'>\n",
      "Int64Index: 197 entries, 3 to 267\n",
      "Data columns (total 14 columns):\n",
      " #   Column                 Non-Null Count  Dtype         \n",
      "---  ------                 --------------  -----         \n",
      " 0   id                     197 non-null    int64         \n",
      " 1   case_in_country        197 non-null    float64       \n",
      " 2   reporting date         197 non-null    datetime64[ns]\n",
      " 3   location               197 non-null    object        \n",
      " 4   country                197 non-null    object        \n",
      " 5   gender                 197 non-null    object        \n",
      " 6   age                    197 non-null    float64       \n",
      " 7   symptom_onset          197 non-null    object        \n",
      " 8   If_onset_approximated  197 non-null    float64       \n",
      " 9   hosp_visit_date        197 non-null    object        \n",
      " 10  hospitaldays           197 non-null    object        \n",
      " 11  visiting Wuhan         197 non-null    int64         \n",
      " 12  from Wuhan             197 non-null    int64         \n",
      " 13  symptom                197 non-null    object        \n",
      "dtypes: datetime64[ns](1), float64(3), int64(3), object(7)\n",
      "memory usage: 23.1+ KB\n"
     ]
    }
   ],
   "source": [
    "covid19_data['reporting date']=pd.to_datetime(covid19_data['reporting date'])\n",
    "covid19_data.info()"
   ]
  },
  {
   "cell_type": "code",
   "execution_count": 363,
   "id": "0aeedfca-1de4-4213-99c5-1e718d80fcd3",
   "metadata": {},
   "outputs": [
    {
     "data": {
      "image/png": "[encoded data removed]",
      "text/plain": [
       "<Figure size 432x288 with 1 Axes>"
      ]
     },
     "metadata": {
      "needs_background": "light"
     },
     "output_type": "display_data"
    }
   ],
   "source": [
    "sns.distplot(covid19_data['age'])\n",
    "plt.ylabel('count')\n",
    "plt.title('Density Age Plot')\n",
    "plt.savefig('Density Age Plot')"
   ]
  },
  {
   "cell_type": "code",
   "execution_count": 365,
   "id": "a886e30a-8bca-4933-a4f0-6547ee134a9a",
   "metadata": {},
   "outputs": [
    {
     "data": {
      "image/png": "[encoded data removed]",
      "text/plain": [
       "<Figure size 432x288 with 1 Axes>"
      ]
     },
     "metadata": {
      "needs_background": "light"
     },
     "output_type": "display_data"
    }
   ],
   "source": [
    "sns.countplot(x='gender', data=covid19_data)\n",
    "plt.title('Gender Bar Plot')\n",
    "plt.savefig('Gender Bar Plot')\n",
    "plt.show()"
   ]
  },
  {
   "cell_type": "code",
   "execution_count": 364,
   "id": "505ba819-dd80-4e3c-a8c5-d3e1b1841c20",
   "metadata": {},
   "outputs": [
    {
     "data": {
      "image/png": "[encoded data removed]",
      "text/plain": [
       "<Figure size 432x288 with 1 Axes>"
      ]
     },
     "metadata": {
      "needs_background": "light"
     },
     "output_type": "display_data"
    }
   ],
   "source": [
    "sns.boxplot(y=covid19_data['age'])\n",
    "plt.title('Age Box Plot')\n",
    "plt.savefig('Age Box Plot')"
   ]
  },
  {
   "cell_type": "code",
   "execution_count": 366,
   "id": "f1cec93d-a8bb-40a7-9658-3a30477f069d",
   "metadata": {},
   "outputs": [
    {
     "data": {
      "image/png": "[encoded data removed]",
      "text/plain": [
       "<Figure size 432x288 with 1 Axes>"
      ]
     },
     "metadata": {
      "needs_background": "light"
     },
     "output_type": "display_data"
    }
   ],
   "source": [
    "sns.countplot(y='country', data=covid19_data)\n",
    "plt.title('Country Bar Plot')\n",
    "plt.savefig('Country Bar Plot')\n",
    "plt.show()"
   ]
  },
  {
   "cell_type": "code",
   "execution_count": null,
   "id": "34cad5f9-e188-48c1-920a-e62d7ee9de6d",
   "metadata": {},
   "outputs": [
    {
     "data": {
      "text/plain": [
       "fever                                      61\n",
       "fever, cough                               28\n",
       "cough                                       8\n",
       "fever, malaise                              5\n",
       "fever, sore throat                          5\n",
       "                                           ..\n",
       "fever, breathlessness, malaise              1\n",
       "fever, abdominal pain, diarrhea             1\n",
       "feve\\                                       1\n",
       "fatigue, muscle pain, joint pain, fever     1\n",
       "vomiting, diarrhea, fever, cough            1\n",
       "Name: symptom, Length: 83, dtype: int64"
      ]
     },
     "execution_count": 345,
     "metadata": {},
     "output_type": "execute_result"
    }
   ],
   "source": [
    "covid19_data['symptom'].astype('category').value_counts()"
   ]
  },
  {
   "cell_type": "code",
   "execution_count": 340,
   "id": "e8d957d2-bfa6-48d7-bc1c-6dcc43c193fa",
   "metadata": {},
   "outputs": [],
   "source": [
    "covid19_data_symptom=covid19_data.loc[(covid19_data['symptom']=='fever')|(covid19_data['symptom']=='fever, cough')|(covid19_data['symptom']=='cough')|(covid19_data['symptom']=='fever, malaise')]"
   ]
  },
  {
   "cell_type": "code",
   "execution_count": 367,
   "id": "e049f832-8f79-43c3-b5ea-2b4bb3aa7768",
   "metadata": {},
   "outputs": [
    {
     "data": {
      "image/png": "[encoded data removed]",
      "text/plain": [
       "<Figure size 432x288 with 1 Axes>"
      ]
     },
     "metadata": {
      "needs_background": "light"
     },
     "output_type": "display_data"
    }
   ],
   "source": [
    "sns.countplot(x='symptom', data=covid19_data_symptom)\n",
    "plt.title('Symptom Bar Plot')\n",
    "plt.savefig('Symptom Bar Plot')\n",
    "plt.show()"
   ]
  }
 ],
 "metadata": {
  "kernelspec": {
   "display_name": "Python 3 (ipykernel)",
   "language": "python",
   "name": "python3"
  },
  "language_info": {
   "codemirror_mode": {
    "name": "ipython",
    "version": 3
   },
   "file_extension": ".py",
   "mimetype": "text/x-python",
   "name": "python",
   "nbconvert_exporter": "python",
   "pygments_lexer": "ipython3",
   "version": "3.9.7"
  }
 },
 "nbformat": 4,
 "nbformat_minor": 5
}
